{
 "cells": [
  {
   "cell_type": "code",
   "id": "initial_id",
   "metadata": {
    "collapsed": true,
    "ExecuteTime": {
     "end_time": "2025-01-22T21:16:28.811858Z",
     "start_time": "2025-01-22T21:16:26.662649Z"
    }
   },
   "source": [
    "from email.generator import Generator\n",
    "\n",
    "import torch\n",
    "import torch.nn as nn\n",
    "import torch.optim as optim\n",
    "from torchvision import datasets, transforms\n",
    "from torch.utils.data import DataLoader\n",
    "import matplotlib.pyplot as plt"
   ],
   "outputs": [],
   "execution_count": 1
  },
  {
   "metadata": {
    "ExecuteTime": {
     "end_time": "2025-01-22T21:16:28.855006Z",
     "start_time": "2025-01-22T21:16:28.818041Z"
    }
   },
   "cell_type": "code",
   "source": [
    "# hyper parameters\n",
    "latent_dim = 100\n",
    "num_labels = 10\n",
    "image_size = 28\n",
    "batch_size = 64\n",
    "epochs = 50\n",
    "learning_rate = 2e-4\n",
    "device = torch.device(\"mps\" if torch.mps.is_available() else \"cpu\")\n",
    "\n",
    "if torch.device('mps').type == \"mps\" and torch.backends.mps.is_available():\n",
    "    print(\"MPS is available\")\n",
    "else:\n",
    "    print(\"MPS is not available\")\n",
    "\n",
    "transform = transforms.Compose([\n",
    "    transforms.ToTensor(),\n",
    "    transforms.Normalize([0.5], [0.5])\n",
    "])\n",
    "\n",
    "mnist = datasets.MNIST(root=\"./data\", train=True, download=True, transform=transform)\n",
    "data_loader = DataLoader(mnist, batch_size=batch_size, shuffle=True)\n"
   ],
   "id": "e72a778ab6fac5bd",
   "outputs": [
    {
     "name": "stdout",
     "output_type": "stream",
     "text": [
      "MPS is available\n"
     ]
    }
   ],
   "execution_count": 2
  },
  {
   "metadata": {
    "ExecuteTime": {
     "end_time": "2025-01-22T21:16:28.932004Z",
     "start_time": "2025-01-22T21:16:28.928393Z"
    }
   },
   "cell_type": "code",
   "source": [
    "class Generator(nn.Module):\n",
    "    def __init__(self):\n",
    "        super(Generator, self).__init__()\n",
    "\n",
    "        self.label_embedding = nn.Embedding(num_embeddings=num_labels, embedding_dim=num_labels)\n",
    "\n",
    "        self.layers = nn.Sequential(\n",
    "            nn.Linear(latent_dim + num_labels, 256),\n",
    "            nn.LeakyReLU(0.2, inplace=True),\n",
    "            nn.Linear(256, 512),\n",
    "            nn.LeakyReLU(0.2, inplace=True),\n",
    "            nn.Linear(512, 1024),\n",
    "            nn.LeakyReLU(0.2, inplace=True),\n",
    "            nn.Linear(1024, image_size * image_size),\n",
    "            nn.Tanh()            \n",
    "        )\n",
    "\n",
    "    def forward(self, noise, labels):\n",
    "        noise = noise.view(noise.size(0), latent_dim)\n",
    "        labels = self.label_embedding(labels)\n",
    "        combined_input = torch.cat((noise, labels), dim=1)\n",
    "        output = self.layers(combined_input)\n",
    "        return output.view(combined_input.size(0), 1, image_size, image_size)"
   ],
   "id": "6e1daf298aa28924",
   "outputs": [],
   "execution_count": 3
  },
  {
   "metadata": {
    "ExecuteTime": {
     "end_time": "2025-01-22T21:16:28.941253Z",
     "start_time": "2025-01-22T21:16:28.937055Z"
    }
   },
   "cell_type": "code",
   "source": [
    "class CNN_Generator(nn.Module):\n",
    "    def __init__(self):\n",
    "        super(CNN_Generator, self).__init__()\n",
    "        \n",
    "        self.label_embedding = nn.Embedding(num_embeddings=num_labels, embedding_dim=num_labels)\n",
    "        \n",
    "        self.fc_layer = nn.Linear(latent_dim + num_labels, 7 * 7 * 128)\n",
    "        \n",
    "        self.conv_layers = nn.Sequential(\n",
    "            nn.ConvTranspose2d(in_channels=128, out_channels=64, kernel_size=4, stride=2, padding=1), # 14x14 128 channels\n",
    "            nn.BatchNorm2d(64),\n",
    "            nn.LeakyReLU(0.2, inplace=True),    \n",
    "            nn.ConvTranspose2d(in_channels=64, out_channels=32, kernel_size=4, stride=2, padding=1), # 28x28 64 channels\n",
    "            nn.BatchNorm2d(32),\n",
    "            nn.LeakyReLU(0.2, inplace=True),\n",
    "            nn.ConvTranspose2d(in_channels=32, out_channels=1, kernel_size=3, stride=1, padding=1), # 28x28 32 channels\n",
    "            nn.Tanh()            \n",
    "        )\n",
    "        \n",
    "    def forward(self, noise, labels):\n",
    "        noise = noise.view(noise.size(0), latent_dim)\n",
    "        labels = self.label_embedding(labels)\n",
    "        combined_input = torch.cat((noise, labels), dim=1)\n",
    "        output = self.fc_layer(combined_input)\n",
    "        reshaped = output.view(output.size(0), 128, 7, 7)\n",
    "        output = self.conv_layers(reshaped)\n",
    "        return output.view(combined_input.size(0), 1, image_size, image_size)"
   ],
   "id": "b8d04719428c0749",
   "outputs": [],
   "execution_count": 4
  },
  {
   "metadata": {
    "ExecuteTime": {
     "end_time": "2025-01-22T21:16:28.950094Z",
     "start_time": "2025-01-22T21:16:28.946513Z"
    }
   },
   "cell_type": "code",
   "source": [
    "class Discriminator(nn.Module):\n",
    "    def __init__(self):\n",
    "        super(Discriminator, self).__init__()\n",
    "        \n",
    "        self.label_embedding = nn.Embedding(num_embeddings=num_labels, embedding_dim=num_labels)\n",
    "        \n",
    "        self.layers = nn.Sequential(\n",
    "            nn.Linear(image_size * image_size + num_labels, 1024),\n",
    "            nn.LeakyReLU(0.2, inplace=True),\n",
    "            nn.Dropout(0.1),\n",
    "            nn.Linear(1024, 512),\n",
    "            nn.LeakyReLU(0.2, inplace=True),\n",
    "            nn.Dropout(0.1),\n",
    "            nn.Linear(512, 256),\n",
    "            nn.LeakyReLU(0.2, inplace=True),\n",
    "            nn.Dropout(0.1),\n",
    "            nn.Linear(256, 1),\n",
    "            nn.Sigmoid()\n",
    "        )\n",
    "        \n",
    "    def forward(self, image, labels):\n",
    "        image = image.view(image.size(0), image_size * image_size)\n",
    "        embedding = self.label_embedding(labels)\n",
    "        combined_input = torch.cat((image, embedding), dim=1)\n",
    "        return self.layers(combined_input)                      # out.squeeze()?"
   ],
   "id": "a8704c42f6527e3e",
   "outputs": [],
   "execution_count": 5
  },
  {
   "metadata": {
    "ExecuteTime": {
     "end_time": "2025-01-22T21:16:28.959057Z",
     "start_time": "2025-01-22T21:16:28.954829Z"
    }
   },
   "cell_type": "code",
   "source": [
    "class CNN_Discriminator(nn.Module):\n",
    "    def __init__(self):\n",
    "        super(CNN_Discriminator, self).__init__()\n",
    "        \n",
    "        self.label_embedding = nn.Embedding(num_embeddings=num_labels, embedding_dim=image_size*image_size)\n",
    "        \n",
    "        self.conv_layers = nn.Sequential(\n",
    "            nn.Conv2d(in_channels=2, out_channels=32, kernel_size=4, stride=2, padding=1),\n",
    "            nn.LeakyReLU(0.2, inplace=True),\n",
    "            nn.Conv2d(in_channels=32, out_channels=64, kernel_size=4, stride=2, padding=1),\n",
    "            nn.LeakyReLU(0.2, inplace=True),\n",
    "        )\n",
    "        \n",
    "        self.fc_layers = nn.Sequential(\n",
    "            nn.Linear(7 * 7 * 64, 256),\n",
    "            nn.LeakyReLU(0.2, inplace=True),\n",
    "            nn.Dropout(0.1),\n",
    "            nn.Linear(256, 256),\n",
    "            nn.LeakyReLU(0.2, inplace=True),\n",
    "            nn.Dropout(0.1),\n",
    "            nn.Linear(256, 1),\n",
    "            nn.Sigmoid()\n",
    "        )\n",
    "        \n",
    "    def forward(self, image, labels):\n",
    "        # embed labels and concat as extra channel\n",
    "        label_embeddings = self.label_embedding(labels).view(labels.size(0), 1, image_size, image_size)\n",
    "        input_with_labels = torch.cat((image, label_embeddings), dim=1)\n",
    "        \n",
    "        # conv layers\n",
    "        processed_image = self.conv_layers(input_with_labels)\n",
    "        flattened_image = processed_image.view(processed_image.size(0), -1)\n",
    "        \n",
    "        # fc layers\n",
    "        return self.fc_layers(flattened_image) \n"
   ],
   "id": "8bec589fd79b7ab1",
   "outputs": [],
   "execution_count": 6
  },
  {
   "metadata": {
    "ExecuteTime": {
     "end_time": "2025-01-22T21:16:28.994972Z",
     "start_time": "2025-01-22T21:16:28.964312Z"
    }
   },
   "cell_type": "code",
   "source": [
    "# create models\n",
    "generator = CNN_Generator().to(device)\n",
    "discriminator = CNN_Discriminator().to(device)\n",
    "\n",
    "adversarial_loss = nn.BCELoss()\n",
    "\n",
    "optim_gen = optim.Adam(generator.parameters(), lr=learning_rate, betas=(0.5, 0.999))\n",
    "optim_disc = optim.Adam(discriminator.parameters(), lr=learning_rate, betas=(0.5, 0.999))"
   ],
   "id": "d4150ed483f95076",
   "outputs": [],
   "execution_count": 7
  },
  {
   "metadata": {
    "ExecuteTime": {
     "end_time": "2025-01-22T21:16:29.002948Z",
     "start_time": "2025-01-22T21:16:29.000490Z"
    }
   },
   "cell_type": "code",
   "source": [
    "# Training Loop\n",
    "\n",
    "for epoch in range(epochs):\n",
    "    for i, (imgs, lbls) in enumerate(data_loader):\n",
    "        batch_size = imgs.size(0)\n",
    "        real_images = imgs.to(device)\n",
    "        real_labels = lbls.to(device)\n",
    "\n",
    "        # Create real / fake labels (1x1 tensor)\n",
    "        real = torch.ones(batch_size, 1).to(device)\n",
    "        fake = torch.zeros(batch_size, 1).to(device)\n",
    "\n",
    "        # Train generator\n",
    "        optim_gen.zero_grad()\n",
    "        rand_noise = torch.randn(batch_size, latent_dim).to(device)\n",
    "        gen_labels = torch.randint(0, num_labels, (batch_size,)).to(device)\n",
    "        gen_images = generator.forward(rand_noise, gen_labels)\n",
    "        gen_loss = adversarial_loss(discriminator(gen_images, gen_labels), real)\n",
    "        gen_loss.backward()\n",
    "        optim_gen.step()\n",
    "\n",
    "        # Train discriminator\n",
    "        optim_disc.zero_grad()\n",
    "        disc_real_loss = adversarial_loss(discriminator.forward(real_images, real_labels), real)\n",
    "        disc_fake_loss = adversarial_loss(discriminator.forward(gen_images.detach(), gen_labels), fake)\n",
    "        disc_loss_total = disc_real_loss + disc_fake_loss\n",
    "        disc_loss_total.backward()\n",
    "        optim_disc.step()\n",
    "\n",
    "    # Print progress\n",
    "    print(f\"Epoch {epoch+1} of {epochs}: gen_loss = {gen_loss:.4f}, disc_loss = {disc_loss_total}\")\n",
    "\n",
    "    # Generate and save samples after each epoch\n",
    "\n",
    "    z = torch.randn(10, latent_dim).to(device)\n",
    "    sample_labels = torch.arange(0, 10).to(device)\n",
    "    generated_imgs = generator(z, sample_labels).cpu().detach()\n",
    "    grid = torch.cat([img for img in generated_imgs], dim=2).squeeze()\n",
    "    plt.imshow(grid, cmap=\"gray\")\n",
    "    plt.axis(\"off\")\n",
    "    plt.show()"
   ],
   "id": "a0eaea9bedab502c",
   "outputs": [],
   "execution_count": 8
  },
  {
   "metadata": {
    "ExecuteTime": {
     "end_time": "2025-01-22T21:16:29.015787Z",
     "start_time": "2025-01-22T21:16:29.013652Z"
    }
   },
   "cell_type": "code",
   "source": [
    "torch.save(generator.state_dict(), \"generator_cnn_v2.pth\")\n",
    "torch.save(discriminator.state_dict(), \"discriminator_cnn_v2.pth\")"
   ],
   "id": "5eb0679a5e7a150f",
   "outputs": [],
   "execution_count": 9
  }
 ],
 "metadata": {
  "kernelspec": {
   "display_name": "Python 3",
   "language": "python",
   "name": "python3"
  },
  "language_info": {
   "codemirror_mode": {
    "name": "ipython",
    "version": 2
   },
   "file_extension": ".py",
   "mimetype": "text/x-python",
   "name": "python",
   "nbconvert_exporter": "python",
   "pygments_lexer": "ipython2",
   "version": "2.7.6"
  }
 },
 "nbformat": 4,
 "nbformat_minor": 5
}
